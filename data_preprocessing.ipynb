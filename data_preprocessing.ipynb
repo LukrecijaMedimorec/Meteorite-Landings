{
 "cells": [
  {
   "cell_type": "code",
   "execution_count": 2,
   "metadata": {},
   "outputs": [],
   "source": [
    "import pandas as pd\n",
    "import matplotlib.pyplot as plt"
   ]
  },
  {
   "cell_type": "code",
   "execution_count": 3,
   "metadata": {},
   "outputs": [
    {
     "name": "stdout",
     "output_type": "stream",
     "text": [
      "Total number of rows in df: 45716\n"
     ]
    }
   ],
   "source": [
    "df = pd.read_csv('meteorite-landings.csv')\n",
    "total_rows = df.shape[0]\n",
    "print(\"Total number of rows in df:\", total_rows)\n"
   ]
  },
  {
   "cell_type": "code",
   "execution_count": 4,
   "metadata": {},
   "outputs": [
    {
     "name": "stdout",
     "output_type": "stream",
     "text": [
      "             Invalid Values\n",
      "Column                     \n",
      "name                      0\n",
      "id                        0\n",
      "nametype                  0\n",
      "recclass                  0\n",
      "mass                     19\n",
      "fall                      0\n",
      "year                      0\n",
      "reclat                 6438\n",
      "reclong                6214\n",
      "GeoLocation            6214\n",
      "year                      2\n"
     ]
    }
   ],
   "source": [
    "null_zero_counts = df.isin([0, None, '(0.000000, 0.000000)']).sum()\n",
    "year_greater_than_2013_count = (df['year'] > 2013).sum()\n",
    "\n",
    "null_zero_df = pd.DataFrame({'Invalid Values': null_zero_counts})\n",
    "year_count_df = pd.DataFrame({'Invalid Values': year_greater_than_2013_count}, index=['year'])\n",
    "\n",
    "counts_df = pd.concat([null_zero_df, year_count_df])\n",
    "\n",
    "counts_df.index.name = 'Column'\n",
    "\n",
    "print(counts_df)\n"
   ]
  },
  {
   "cell_type": "code",
   "execution_count": 5,
   "metadata": {},
   "outputs": [
    {
     "name": "stdout",
     "output_type": "stream",
     "text": [
      "             Invalid Values\n",
      "Column                     \n",
      "name                      0\n",
      "id                        0\n",
      "nametype                  0\n",
      "recclass                  0\n",
      "mass                      0\n",
      "fall                      0\n",
      "year                      0\n",
      "reclat                  224\n",
      "reclong                   0\n",
      "GeoLocation               0\n",
      "year                      0\n"
     ]
    }
   ],
   "source": [
    "df = df[~((df['GeoLocation'] == '(0.000000, 0.000000)'))]\n",
    "\n",
    "df = df[(df['mass'] != 0) & (~df['mass'].isnull())]\n",
    "\n",
    "df = df[(df['year'] <= 2013)]\n",
    "\n",
    "df.reset_index(drop=True, inplace=True)\n",
    "\n",
    "null_zero_counts = df.isin([0, None, '(0.000000, 0.000000)']).sum()\n",
    "year_greater_than_2013_count = (df['year'] > 2013).sum()\n",
    "\n",
    "null_zero_df = pd.DataFrame({'Invalid Values': null_zero_counts})\n",
    "year_count_df = pd.DataFrame({'Invalid Values': year_greater_than_2013_count}, index=['year'])\n",
    "\n",
    "counts_df = pd.concat([null_zero_df, year_count_df])\n",
    "\n",
    "counts_df.index.name = 'Column'\n",
    "\n",
    "print(counts_df)\n"
   ]
  },
  {
   "cell_type": "code",
   "execution_count": 6,
   "metadata": {},
   "outputs": [
    {
     "name": "stdout",
     "output_type": "stream",
     "text": [
      "Total number of rows in df: 39107\n"
     ]
    }
   ],
   "source": [
    "total_rows = df.shape[0]\n",
    "print(\"Total number of rows in df:\", total_rows)"
   ]
  },
  {
   "cell_type": "code",
   "execution_count": 7,
   "metadata": {},
   "outputs": [],
   "source": [
    "df.to_csv('meteorite_landings_cleaned.csv', index=False)"
   ]
  }
 ],
 "metadata": {
  "kernelspec": {
   "display_name": "Python 3",
   "language": "python",
   "name": "python3"
  },
  "language_info": {
   "codemirror_mode": {
    "name": "ipython",
    "version": 3
   },
   "file_extension": ".py",
   "mimetype": "text/x-python",
   "name": "python",
   "nbconvert_exporter": "python",
   "pygments_lexer": "ipython3",
   "version": "3.10.12"
  }
 },
 "nbformat": 4,
 "nbformat_minor": 2
}
